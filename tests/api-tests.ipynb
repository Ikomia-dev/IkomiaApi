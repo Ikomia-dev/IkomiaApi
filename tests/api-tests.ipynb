{
 "cells": [
  {
   "cell_type": "markdown",
   "id": "74a73353",
   "metadata": {},
   "source": [
    "# Installation"
   ]
  },
  {
   "cell_type": "markdown",
   "id": "687165ab",
   "metadata": {},
   "source": [
    "Python packages installed"
   ]
  },
  {
   "cell_type": "code",
   "execution_count": null,
   "id": "531ce1be",
   "metadata": {},
   "outputs": [],
   "source": [
    "!pip list"
   ]
  },
  {
   "cell_type": "markdown",
   "id": "3f38112f",
   "metadata": {},
   "source": [
    "Check Ikomia API installation"
   ]
  },
  {
   "cell_type": "code",
   "execution_count": null,
   "id": "4fc42a1b",
   "metadata": {
    "scrolled": true
   },
   "outputs": [],
   "source": [
    "!python test-install.py"
   ]
  },
  {
   "cell_type": "markdown",
   "id": "a4742732",
   "metadata": {},
   "source": [
    "# Examples"
   ]
  },
  {
   "cell_type": "markdown",
   "id": "a1ac56ab",
   "metadata": {},
   "source": [
    "Ikomia initialization"
   ]
  },
  {
   "cell_type": "code",
   "execution_count": null,
   "id": "cb85ce11",
   "metadata": {},
   "outputs": [],
   "source": [
    "import ikomia\n",
    "import logging\n",
    "\n",
    "logger = logging.getLogger(__name__)\n",
    "ikomia.initialize()"
   ]
  },
  {
   "cell_type": "markdown",
   "id": "89b9cbb8",
   "metadata": {},
   "source": [
    "**GMIC plugin**"
   ]
  },
  {
   "cell_type": "code",
   "execution_count": null,
   "id": "48443be1",
   "metadata": {},
   "outputs": [],
   "source": [
    "import cv2\n",
    "from ikomia.dataprocess import registry, workflow, displayIO\n",
    "\n",
    "img_path = \"../cpp/UnitTests/Data/Images/example_05.jpg\"\n",
    "img = cv2.imread(img_path)\n",
    "\n",
    "reg = registry.IkomiaRegistry()\n",
    "print(reg.getAlgorithms())\n",
    "algo = reg.create_algorithm(\"Auto balance\")\n",
    "input_img = algo.getInput(0)\n",
    "input_img.setImage(img)\n",
    "algo.run()\n",
    "displayIO.display(algo, algo.name)"
   ]
  },
  {
   "cell_type": "markdown",
   "id": "471a4acf",
   "metadata": {},
   "source": [
    "**YOLOv5 inference**"
   ]
  },
  {
   "cell_type": "code",
   "execution_count": null,
   "id": "46c011fa",
   "metadata": {
    "scrolled": true
   },
   "outputs": [],
   "source": [
    "import cv2\n",
    "from ikomia.dataprocess import registry, workflow, displayIO\n",
    "\n",
    "img_path = \"../cpp/UnitTests/Data/Images/example_05.jpg\"\n",
    "img = cv2.imread(img_path)\n",
    "\n",
    "reg = registry.IkomiaRegistry()\n",
    "algo = reg.create_algorithm(\"YoloV5Predict\")\n",
    "input_img = algo.getInput(0)\n",
    "input_img.setImage(img)\n",
    "algo.run()\n",
    "output_img = algo.getOutput(0)\n",
    "output_img.drawGraphics(algo.getOutput(1))\n",
    "displayIO.display(algo, algo.name)"
   ]
  },
  {
   "cell_type": "markdown",
   "id": "792908cc",
   "metadata": {},
   "source": [
    "**YOLO v4 inference**"
   ]
  },
  {
   "cell_type": "code",
   "execution_count": null,
   "id": "30a56880",
   "metadata": {
    "scrolled": true
   },
   "outputs": [],
   "source": [
    "import cv2\n",
    "from ikomia.dataprocess import registry, workflow, displayIO\n",
    "\n",
    "img_path = \"../cpp/UnitTests/Data/Images/example_05.jpg\"\n",
    "img = cv2.imread(img_path)\n",
    "\n",
    "reg = registry.IkomiaRegistry()\n",
    "algo = reg.create_algorithm(\"YoloV4\")\n",
    "print(algo.getParam())\n",
    "params = algo.getParam().getParamMap()\n",
    "params[\"target\"] = str(cv2.dnn.DNN_TARGET_CUDA)\n",
    "params[\"backend\"] = str(cv2.dnn.DNN_BACKEND_CUDA)\n",
    "algo.getParam().setParamMap(params)\n",
    "print(algo.getParam())\n",
    "input_img = algo.getInput(0)\n",
    "input_img.setImage(img)\n",
    "algo.run()\n",
    "output_img = algo.getOutput(0)\n",
    "output_img.drawGraphics(algo.getOutput(1))\n",
    "displayIO.display(algo, algo.name)"
   ]
  },
  {
   "cell_type": "markdown",
   "id": "551962c5",
   "metadata": {},
   "source": [
    "**ResNet training**"
   ]
  },
  {
   "cell_type": "code",
   "execution_count": null,
   "id": "1f30f748",
   "metadata": {
    "scrolled": true
   },
   "outputs": [],
   "source": [
    "from ikomia.dataprocess import registry, workflow\n",
    "\n",
    "wf_path = \"../cpp/UnitTests/Data/Workflows/WorkflowResNetTrain.json\"\n",
    "dataset_dir = \"/home/ludo/Images/Datasets/hymenoptera_data\"\n",
    "\n",
    "reg = registry.IkomiaRegistry()\n",
    "wf = workflow.Workflow(\"test_resnet\", reg)\n",
    "wf.load(wf_path)\n",
    "wf.set_directory_input(dataset_dir)\n",
    "logger.info(\"Start ResNet training...\")\n",
    "wf.run()\n",
    "logger.info(\"Training finished successfully\")"
   ]
  },
  {
   "cell_type": "markdown",
   "id": "f027ecab",
   "metadata": {},
   "source": [
    "**YOLO darknet training**"
   ]
  },
  {
   "cell_type": "code",
   "execution_count": null,
   "id": "3013b99c",
   "metadata": {
    "scrolled": true
   },
   "outputs": [],
   "source": [
    "from ikomia.dataprocess import registry, workflow\n",
    "\n",
    "reg = registry.IkomiaRegistry()\n",
    "wf = workflow.Workflow(\"YoloTrain\", reg)\n",
    "\n",
    "wgisd_id = wf.add_task(\"WGISD_Dataset\")\n",
    "wgisd = wf.getTask(wgisd_id)\n",
    "wgisd_params = wgisd.getParam().getParamMap()\n",
    "wgisd_params[\"data_folder_path\"] = \"/home/ludo/Images/Datasets/wgisd/data\"\n",
    "wgisd_params[\"class_file_path\"] = \"/home/ludo/Images/Datasets/wgisd/classes.txt\"\n",
    "wgisd_params[\"load_mask\"] = str(False)\n",
    "wgisd.getParam().setParamMap(wgisd_params)\n",
    "print(\"WGISD_Datatset parameters:\\n\", wgisd.getParam())\n",
    "\n",
    "yolo_id = wf.add_task(\"YoloTrain\")\n",
    "yolo = wf.getTask(yolo_id)\n",
    "print(\"YoloTrain parameters:\\n\", yolo.getParam())\n",
    "wf.connect_tasks(wgisd_id, yolo_id)\n",
    "\n",
    "wf.run()"
   ]
  },
  {
   "cell_type": "code",
   "execution_count": null,
   "id": "98a17a93",
   "metadata": {},
   "outputs": [],
   "source": []
  }
 ],
 "metadata": {
  "kernelspec": {
   "display_name": "Python 3 (ipykernel)",
   "language": "python",
   "name": "python3"
  },
  "language_info": {
   "codemirror_mode": {
    "name": "ipython",
    "version": 3
   },
   "file_extension": ".py",
   "mimetype": "text/x-python",
   "name": "python",
   "nbconvert_exporter": "python",
   "pygments_lexer": "ipython3",
   "version": "3.9.6"
  }
 },
 "nbformat": 4,
 "nbformat_minor": 5
}
