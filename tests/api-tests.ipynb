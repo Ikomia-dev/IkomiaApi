{
 "cells": [
  {
   "cell_type": "markdown",
   "id": "74a73353",
   "metadata": {},
   "source": [
    "# Installation"
   ]
  },
  {
   "cell_type": "markdown",
   "id": "687165ab",
   "metadata": {},
   "source": [
    "Python packages installed"
   ]
  },
  {
   "cell_type": "code",
   "execution_count": null,
   "id": "531ce1be",
   "metadata": {
    "scrolled": false
   },
   "outputs": [],
   "source": [
    "!pip list"
   ]
  },
  {
   "cell_type": "markdown",
   "id": "3f38112f",
   "metadata": {},
   "source": [
    "Check Ikomia API installation"
   ]
  },
  {
   "cell_type": "code",
   "execution_count": null,
   "id": "4fc42a1b",
   "metadata": {
    "scrolled": false
   },
   "outputs": [],
   "source": [
    "!python test-install.py"
   ]
  },
  {
   "cell_type": "markdown",
   "id": "5aa69b94",
   "metadata": {},
   "source": [
    "Matplotlib"
   ]
  },
  {
   "cell_type": "code",
   "execution_count": 2,
   "id": "866ac92a",
   "metadata": {},
   "outputs": [
    {
     "name": "stdout",
     "output_type": "stream",
     "text": [
      "Using matplotlib backend: TkAgg\n"
     ]
    }
   ],
   "source": [
    "%matplotlib"
   ]
  },
  {
   "cell_type": "markdown",
   "id": "89b9cbb8",
   "metadata": {},
   "source": [
    "**GMIC plugin**"
   ]
  },
  {
   "cell_type": "code",
   "execution_count": 3,
   "id": "48443be1",
   "metadata": {
    "scrolled": true
   },
   "outputs": [
    {
     "name": "stdout",
     "output_type": "stream",
     "text": [
      "Install Weights & Biases for experiment logging via 'pip install wandb' (recommended)\n",
      "['Objects measurements', 'Cut', 'Fill Holes', 'Plots merge', 'RGB-HLS Segmentation', 'Binary to graphics', 'Graphics to binary', 'Abs diff', 'Add', 'Add Weighted', 'Compare', 'ConvertTo', 'CopyMakeBorder', 'CountNonZero', 'Crop', 'Discrete Fourier Transform', 'Discrete Inverse Fourier Transform', 'Divide', 'Exponent', 'Extract channel', 'Flip', 'InRange', 'Insert channel', 'K-means', 'Log', 'Logical operations', 'Magnitude', 'Max', 'Merge Operator', 'Min', 'Multiply', 'Negative', 'Normalize', 'PSNR', 'Rotate', 'Split Operator', 'Subtract', 'DNN classification', 'DNN colorization', 'DNN detection', 'DNN segmentation', 'AGAST', 'AKAZE', 'BFMatcher', 'BRISK', 'FAST', 'Flann based matcher', 'GFTTDetector', 'KAZE', 'ORB', 'SIFT', 'SimpleBlobDetector', 'Adaptive Threshold', 'Bilateral Filter', 'Box Filter', 'CalcHist', 'Canny', 'Cascade Classifier Filter', 'CLAHE', 'Colormap', 'Color Conversion', 'Distance Transform', 'Equalize histogram', 'Gaussian Blur', 'GrabCut Segmentation', 'Hough circles', 'Hough lines', 'Laplacian', 'Median Filter', 'MorphologyEx', 'Resize', 'RotateEx', 'Sobel', 'Threshold', 'Watershed', 'Decolor', 'Inpaint filter', 'Colorchange', 'Denoise TV L1', 'Detail Enhance Filter', 'Edge Preserving Filter', 'Non Local Means Filter', 'Non Local Means Multi Filter', 'IlluminationChange', 'Pencil sketch', 'SeamlessCloning', 'Stylization', 'Texture flattening', 'TrackerGOTURN', 'TrackerKCF', 'KNN background substractor', 'MOG2 background substractor', 'CamShift', 'DIS Optical Flow', 'Farneback Optical Flow', 'MeanShift', 'CNT background substractor', 'GMG background substractor', 'GSOC background substractor', 'LSBP background substractor', 'MOG background substractor', 'Anisotropic Diffusion', 'Niblack Threshold', 'Pei-Lin Normalization', 'Thinning', 'Adaptive Manifold Filter', 'Bilateral texture filter', 'DTFilter', 'DTFilterEnhance', 'DTFilterStylize', 'Fast Global Smoother Filter', 'Fast Line Detector', 'Deriche gradient filter', 'Paillou gradient filter', 'Graph Segmentation', 'Guided Filter', 'Joint Bilateral Filter', 'L0 smooth filter', 'Ridge Filter', 'Rolling guidance filter', 'Selective Search Segmentation', 'SuperpixelLSC', 'SuperpixelSEEDS', 'SuperpixelSLIC', 'StructuredEdgeDetection', 'GrayworldWB', 'XPhoto Inpaint', 'LearningBasedWB', 'SimpleWB', 'DeepFlow', 'Dual TVL1 Optical Flow', 'PCA Optical Flow', 'Simple Flow', 'SparseToDense Flow', 'Retina', 'RetinaSegmentation', 'MotionSaliencyBinWangApr2014', 'ObjectnessBING', 'StaticSaliencyFineGrained', 'StaticSaliencySpectralResidual', 'Super Resolution BTVL1', 'QRCodeDetector', 'OCRTesseract', 'Inpaint fuzzy filter', 'Hierarchical Feature Selection Segmentation', 'Auto balance', 'Boost chromaticity', 'Boost fade', 'Color presets', 'Difference of Gaussians', 'Distance transform', 'Skeleton', 'Super-pixels', 'Constrained sharpen', 'Dynamic range increase', 'Magic details', 'Sharpen [Deblur]', 'Sharpen [Gradient]', 'Sharpen [Richardson-Lucy]', 'Sharpen [Tones]', 'Hot pixels', 'Patch-based Inpaint', 'Red-eye', 'Face Detector', 'Facemark LBF', 'InceptionV3', 'Mask RCNN', 'MobileNet SSD', 'Text Detector EAST', 'YoloTrain', 'YoloV3', 'YoloV4', 'YoloV5Predict', 'YoloV5Train', 'ResNet Train', 'ResNet', 'WGISD_Dataset', 'scikit_threshold']\n"
     ]
    },
    {
     "name": "stderr",
     "output_type": "stream",
     "text": [
      "[gmic]-1./ Start G'MIC interpreter.\n",
      "[gmic]-1./gcd_auto_balance/ Set local variable 'mode=hsv_v'.\n",
      "[gmic]-1./gcd_auto_balance/*if/ac/ Apply command '-gcd_rgb_balance' on channels 'rgb' of image [0].\n",
      "[gmic]-1./gcd_auto_balance/*if/ac/ Apply command '-gcd_tonemap 30' on channels 'hsv_v' of image [0].\n",
      "[gmic]-1./ End G'MIC interpreter.\n"
     ]
    }
   ],
   "source": [
    "from ikomia.dataprocess import registry, workflow, displayIO\n",
    "import cv2\n",
    "\n",
    "img_path = \"../cpp/UnitTests/Data/Images/example_05.jpg\"\n",
    "img = cv2.imread(img_path)\n",
    "\n",
    "reg = registry.IkomiaRegistry()\n",
    "print(reg.getAlgorithms())\n",
    "algo = reg.create_algorithm(\"Auto balance\")\n",
    "input_img = algo.getInput(0)\n",
    "input_img.setImage(img)\n",
    "algo.run()\n",
    "displayIO.display(algo, algo.name)"
   ]
  },
  {
   "cell_type": "markdown",
   "id": "471a4acf",
   "metadata": {},
   "source": [
    "**YOLOv5 inference**"
   ]
  },
  {
   "cell_type": "code",
   "execution_count": null,
   "id": "46c011fa",
   "metadata": {
    "scrolled": false
   },
   "outputs": [],
   "source": [
    "from ikomia.dataprocess import registry, workflow, displayIO\n",
    "import cv2\n",
    "\n",
    "img_path = \"../cpp/UnitTests/Data/Images/example_05.jpg\"\n",
    "img = cv2.imread(img_path)\n",
    "\n",
    "reg = registry.IkomiaRegistry()\n",
    "algo = reg.create_algorithm(\"YoloV5Predict\")\n",
    "input_img = algo.getInput(0)\n",
    "input_img.setImage(img)\n",
    "algo.run()\n",
    "output_img = algo.getOutput(0)\n",
    "output_img.drawGraphics(algo.getOutput(1))\n",
    "displayIO.display(algo, algo.name)"
   ]
  },
  {
   "cell_type": "markdown",
   "id": "792908cc",
   "metadata": {},
   "source": [
    "**YOLO v4 inference**"
   ]
  },
  {
   "cell_type": "code",
   "execution_count": null,
   "id": "30a56880",
   "metadata": {
    "scrolled": true
   },
   "outputs": [],
   "source": [
    "from ikomia.dataprocess import registry, workflow, displayIO\n",
    "import cv2\n",
    "\n",
    "img_path = \"../cpp/UnitTests/Data/Images/example_05.jpg\"\n",
    "img = cv2.imread(img_path)\n",
    "\n",
    "reg = registry.IkomiaRegistry()\n",
    "algo = reg.create_algorithm(\"YoloV4\")\n",
    "print(algo.getParam())\n",
    "params = algo.getParam().getParamMap()\n",
    "params[\"target\"] = str(cv2.dnn.DNN_TARGET_CUDA)\n",
    "params[\"backend\"] = str(cv2.dnn.DNN_BACKEND_CUDA)\n",
    "algo.getParam().setParamMap(params)\n",
    "print(algo.getParam())\n",
    "input_img = algo.getInput(0)\n",
    "input_img.setImage(img)\n",
    "algo.run()\n",
    "output_img = algo.getOutput(0)\n",
    "output_img.drawGraphics(algo.getOutput(1))\n",
    "displayIO.display(algo, algo.name)"
   ]
  },
  {
   "cell_type": "markdown",
   "id": "551962c5",
   "metadata": {},
   "source": [
    "**ResNet training**"
   ]
  },
  {
   "cell_type": "code",
   "execution_count": null,
   "id": "1f30f748",
   "metadata": {
    "scrolled": true
   },
   "outputs": [],
   "source": [
    "from ikomia.dataprocess import workflow\n",
    "\n",
    "wf_path = \"../cpp/UnitTests/Data/Workflows/WorkflowResNetTrain.json\"\n",
    "dataset_dir = \"/home/ludo/Images/Datasets/hymenoptera_data\"\n",
    "wf = workflow.load(wf_path)\n",
    "print(\"Start ResNet training...\")\n",
    "wf.run_on(folder=dataset_dir)\n",
    "print(\"Training finished successfully\")"
   ]
  },
  {
   "cell_type": "markdown",
   "id": "f027ecab",
   "metadata": {},
   "source": [
    "**YOLO darknet training**"
   ]
  },
  {
   "cell_type": "code",
   "execution_count": null,
   "id": "bfe289ab",
   "metadata": {},
   "outputs": [],
   "source": [
    "from ikomia.dataprocess import workflow\n",
    " \n",
    "wf = workflow.create(\"YoloTrain\")\n",
    "wgisd_id, wgisd = wf.add_task(\"WGISD_Dataset\")\n",
    "wgisd_params = wgisd.getParamValues()\n",
    "wgisd_params[\"data_folder_path\"] = \"/home/ludo/Images/Datasets/wgisd/data\"\n",
    "wgisd_params[\"class_file_path\"] = \"/home/ludo/Images/Datasets/wgisd/classes.txt\"\n",
    "wgisd_params[\"load_mask\"] = str(False)\n",
    "wgisd.setParamValues(wgisd_params)\n",
    "print(\"WGISD_Datatset parameters:\\n\", wgisd.getParam())\n",
    "    \n",
    "yolo_id, yolo = wf.add_task(\"YoloTrain\")\n",
    "yolo = wf.getTask(yolo_id)\n",
    "print(\"YoloTrain parameters:\\n\", yolo.getParam())\n",
    "wf.connect_tasks(wgisd_id, yolo_id)\n",
    "\n",
    "wf.run()"
   ]
  },
  {
   "cell_type": "code",
   "execution_count": null,
   "id": "98a17a93",
   "metadata": {
    "scrolled": true
   },
   "outputs": [],
   "source": []
  }
 ],
 "metadata": {
  "kernelspec": {
   "display_name": "Python 3 (ipykernel)",
   "language": "python",
   "name": "python3"
  },
  "language_info": {
   "codemirror_mode": {
    "name": "ipython",
    "version": 3
   },
   "file_extension": ".py",
   "mimetype": "text/x-python",
   "name": "python",
   "nbconvert_exporter": "python",
   "pygments_lexer": "ipython3",
   "version": "3.9.6"
  }
 },
 "nbformat": 4,
 "nbformat_minor": 5
}
